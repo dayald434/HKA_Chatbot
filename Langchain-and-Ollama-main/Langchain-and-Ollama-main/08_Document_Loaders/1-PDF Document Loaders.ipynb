{
 "cells": [
  {
   "cell_type": "markdown",
   "metadata": {},
   "source": [
    "## PDF Document Loaders\n",
    "- Load various kind of documents from the web and local files.\n",
    "- Apply LLM to the documents for summarization and question answering."
   ]
  },
  {
   "cell_type": "markdown",
   "metadata": {},
   "source": [
    "### Project 1: Question Answering from PDF Document\n",
    "- We will load the document from the local file and apply LLM to answer the questions.\n",
    "- Lets use research paper published on the missuse of the health supplements for workout. "
   ]
  },
  {
   "cell_type": "code",
   "execution_count": null,
   "metadata": {},
   "outputs": [
    {
     "name": "stdout",
     "output_type": "stream",
     "text": [
      "Requirement already satisfied: pymupdf in c:\\users\\ddaya\\anaconda3\\envs\\ml\\lib\\site-packages (1.24.12)\n",
      "Requirement already satisfied: tiktoken in c:\\users\\ddaya\\anaconda3\\envs\\ml\\lib\\site-packages (0.9.0)\n",
      "Requirement already satisfied: regex>=2022.1.18 in c:\\users\\ddaya\\anaconda3\\envs\\ml\\lib\\site-packages (from tiktoken) (2024.11.6)\n",
      "Requirement already satisfied: requests>=2.26.0 in c:\\users\\ddaya\\anaconda3\\envs\\ml\\lib\\site-packages (from tiktoken) (2.32.3)\n",
      "Requirement already satisfied: charset-normalizer<4,>=2 in c:\\users\\ddaya\\anaconda3\\envs\\ml\\lib\\site-packages (from requests>=2.26.0->tiktoken) (3.4.2)\n",
      "Requirement already satisfied: idna<4,>=2.5 in c:\\users\\ddaya\\anaconda3\\envs\\ml\\lib\\site-packages (from requests>=2.26.0->tiktoken) (3.10)\n",
      "Requirement already satisfied: urllib3<3,>=1.21.1 in c:\\users\\ddaya\\anaconda3\\envs\\ml\\lib\\site-packages (from requests>=2.26.0->tiktoken) (2.4.0)\n",
      "Requirement already satisfied: certifi>=2017.4.17 in c:\\users\\ddaya\\anaconda3\\envs\\ml\\lib\\site-packages (from requests>=2.26.0->tiktoken) (2025.4.26)\n"
     ]
    }
   ],
   "source": [
    "\n",
    "# !pip install pymupdf tiktoken\n"
   ]
  },
  {
   "cell_type": "code",
   "execution_count": null,
   "metadata": {},
   "outputs": [
    {
     "data": {
      "text/plain": [
       "True"
      ]
     },
     "execution_count": 2,
     "metadata": {},
     "output_type": "execute_result"
    }
   ],
   "source": [
    "from dotenv import load_dotenv\n",
    "\n",
    "load_dotenv('./../.env')"
   ]
  },
  {
   "cell_type": "code",
   "execution_count": 3,
   "metadata": {},
   "outputs": [],
   "source": [
    "from langchain_community.document_loaders import PyMuPDFLoader\n",
    "\n",
    "loader = PyMuPDFLoader(\"rag-dataset/health supplements/1. dietary supplements - for whom.pdf\")\n",
    "\n",
    "docs = loader.load()"
   ]
  },
  {
   "cell_type": "code",
   "execution_count": 4,
   "metadata": {},
   "outputs": [
    {
     "data": {
      "text/plain": [
       "17"
      ]
     },
     "execution_count": 4,
     "metadata": {},
     "output_type": "execute_result"
    }
   ],
   "source": [
    "len(docs)"
   ]
  },
  {
   "cell_type": "code",
   "execution_count": 5,
   "metadata": {},
   "outputs": [],
   "source": [
    "# docs[0].metadata\n",
    "# print(docs[0].page_content)"
   ]
  },
  {
   "cell_type": "code",
   "execution_count": 6,
   "metadata": {},
   "outputs": [],
   "source": [
    "### Read the list of PDFs in the dir\n",
    "import os\n",
    "\n",
    "pdfs = []\n",
    "for root, dirs, files in os.walk(\"rag-dataset\"):\n",
    "    # print(root, dirs, files)\n",
    "    for file in files:\n",
    "        if file.endswith(\".pdf\"):\n",
    "            pdfs.append(os.path.join(root, file))"
   ]
  },
  {
   "cell_type": "code",
   "execution_count": 7,
   "metadata": {},
   "outputs": [],
   "source": [
    "docs = []\n",
    "for pdf in pdfs:\n",
    "    loader = PyMuPDFLoader(pdf)\n",
    "    temp = loader.load()\n",
    "    docs.extend(temp)\n",
    "\n",
    "    # print(temp)\n",
    "    # break"
   ]
  },
  {
   "cell_type": "code",
   "execution_count": 8,
   "metadata": {},
   "outputs": [
    {
     "data": {
      "text/plain": [
       "64"
      ]
     },
     "execution_count": 8,
     "metadata": {},
     "output_type": "execute_result"
    }
   ],
   "source": [
    "len(docs)"
   ]
  },
  {
   "cell_type": "code",
   "execution_count": 9,
   "metadata": {},
   "outputs": [],
   "source": [
    "def format_docs(docs):\n",
    "    return \"\\n\\n\".join([x.page_content for x in docs])\n",
    "\n",
    "\n",
    "context = format_docs(docs)"
   ]
  },
  {
   "cell_type": "code",
   "execution_count": 10,
   "metadata": {},
   "outputs": [
    {
     "data": {
      "text/plain": [
       "Document(metadata={'producer': 'iLovePDF', 'creator': '', 'creationdate': '', 'source': 'rag-dataset\\\\gym supplements\\\\1. Analysis of Actual Fitness Supplement.pdf', 'file_path': 'rag-dataset\\\\gym supplements\\\\1. Analysis of Actual Fitness Supplement.pdf', 'total_pages': 15, 'format': 'PDF 1.7', 'title': '', 'author': '', 'subject': '', 'keywords': '', 'moddate': '2024-10-21T11:38:50+00:00', 'trapped': '', 'modDate': 'D:20241021113850Z', 'creationDate': '', 'page': 0}, page_content='Citation: Espeño, P.R.; Ong, A.K.S.;\\nGerman, J.D.; Gumasing, M.J.J.; Casas,\\nE.S. Analysis of Actual Fitness\\nSupplement Consumption among\\nHealth and Fitness Enthusiasts. Foods\\n2024, 13, 1424. https://doi.org/\\n10.3390/foods13091424\\nAcademic Editors: Ilija Djekic\\nand Nada Smigic\\nReceived: 30 March 2024\\nRevised: 15 April 2024\\nAccepted: 18 April 2024\\nPublished: 6 May 2024\\nCopyright: © 2024 by the authors.\\nLicensee MDPI, Basel, Switzerland.\\nThis article is an open access article\\ndistributed\\nunder\\nthe\\nterms\\nand\\nconditions of the Creative Commons\\nAttribution (CC BY) license (https://\\ncreativecommons.org/licenses/by/\\n4.0/).\\nfoods\\nArticle\\nAnalysis of Actual Fitness Supplement Consumption among\\nHealth and Fitness Enthusiasts\\nPaolo Renzo Espeño 1, Ardvin Kester S. Ong 1,2,*\\n, Josephine D. German 1\\n, Ma. Janice J. Gumasing 3\\nand Ethan S. Casas 1\\n1\\nSchool of Industrial Engineering and Engineering Management, Mapúa University, 658 Muralla St.,\\nIntramuros, Manila 1002, Philippines\\n2\\nE.T. Yuchengo School of Business, Mapúa University, 1191 Pablo Ocampo Sr. Ext., Makati 1204, Philippines\\n3\\nDepartment of Industrial and Systems Engineering, Gokongwei College of Engineering,\\nDe La Salle University, 2401 Taft Ave., Manila 1007, Philippines\\n*\\nCorrespondence: aksong@mapua.edu.ph; Tel.: +63-(2)8247-5000 (ext. 6202)\\nAbstract: With the rising popularity of fitness supplements, understanding the factors driving their\\nconsumption behaviors is crucial. This study investigated the actual consumption of fitness supple-\\nments utilizing the Theory of Planned Behavior (TPB), Health Belief Model (HBM), and the Theory\\nof Effort Minimization in Physical Activity (TEMPA) frameworks. The TPB provided insights into\\nhow attitudes, subjective norms, and perceived behavioral control influence individuals’ intentions\\nto consume fitness supplements. Additionally, the HBM sheds light on perceived effectiveness,\\nbenefits, barriers, and health motivation related to supplement consumption. Integrating the TEMPA\\nframework further investigated the role of effort minimization in physical activity contexts. Through\\nan online questionnaire, data were collected from a sample of 250 fitness supplement-consuming\\nrespondents. SEM analysis revealed significant associations between behavioral intentions and\\nattitudes, perceived behavioral control, health motivation, and controlled precursors. However, it\\nwas seen that subjective norms, perceived effectiveness, perceived benefits, and automatic precursors\\nwere deemed insignificant. The findings contribute to a comprehensive understanding of the factors\\nshaping actual consumption behaviors, offering valuable implications for marketers, health profes-\\nsionals, and policymakers seeking to promote informed and responsible supplement use among\\nhealth and fitness enthusiasts.\\nKeywords: fitness supplements; health belief model; theory of effort of minimization; theory of\\nplanned behavior; structural equation modelling\\n1. Introduction\\nSupplementary drinks or fitness supplements are commonly used to enhance an\\nindividual’s performance in various sports and health settings, catering to both competitive\\nand non-competitive athletes [1]. One widely known supplement for athletes and fitness\\nenthusiasts is protein supplements like protein shakes. Others may be whey protein,\\ncaffeine, and creatine, to name a few. These supplements play a crucial role in helping\\nindividuals increase muscle mass, recover faster, and enhance their overall performance [2].\\nWhey protein stands out as a top-quality protein source, containing more essential amino\\nacids than traditional protein sources. Its numerous benefits have made it a popular choice\\nfor snacks and drinks among consumers [3]. Another widely embraced supplement is\\ncaffeine, which is found in many sports and food supplements. Caffeine reduces perceived\\neffort, minimizes fatigue and pain, and proves to be effective for endurance and high-\\nintensity activities, which is the choice of consumers [4].\\nCreatine monohydrate is another well-known supplement used to gain muscle mass\\nand support performance and recovery. It is known not to increase fat mass and remains\\neffective even when taken in recommended doses [5]. Despite its popularity in the fitness\\nFoods 2024, 13, 1424. https://doi.org/10.3390/foods13091424\\nhttps://www.mdpi.com/journal/foods')"
      ]
     },
     "execution_count": 10,
     "metadata": {},
     "output_type": "execute_result"
    }
   ],
   "source": [
    "docs[0]"
   ]
  },
  {
   "cell_type": "code",
   "execution_count": 11,
   "metadata": {},
   "outputs": [],
   "source": [
    "# print(context)"
   ]
  },
  {
   "cell_type": "code",
   "execution_count": 12,
   "metadata": {},
   "outputs": [],
   "source": [
    "import tiktoken\n",
    "\n",
    "encoding = tiktoken.encoding_for_model(\"gpt-4o-mini\")\n"
   ]
  },
  {
   "cell_type": "code",
   "execution_count": 13,
   "metadata": {},
   "outputs": [
    {
     "data": {
      "text/plain": [
       "([542, 111291, 14571], [81, 31847, 80, 5276])"
      ]
     },
     "execution_count": 13,
     "metadata": {},
     "output_type": "execute_result"
    }
   ],
   "source": [
    "encoding.encode(\"congratulations\"), encoding.encode(\"rqsqeft\")"
   ]
  },
  {
   "cell_type": "code",
   "execution_count": 14,
   "metadata": {},
   "outputs": [
    {
     "data": {
      "text/plain": [
       "968"
      ]
     },
     "execution_count": 14,
     "metadata": {},
     "output_type": "execute_result"
    }
   ],
   "source": [
    "len(encoding.encode(docs[0].page_content))"
   ]
  },
  {
   "cell_type": "code",
   "execution_count": 15,
   "metadata": {},
   "outputs": [
    {
     "data": {
      "text/plain": [
       "60268"
      ]
     },
     "execution_count": 15,
     "metadata": {},
     "output_type": "execute_result"
    }
   ],
   "source": [
    "len(encoding.encode(context))"
   ]
  },
  {
   "cell_type": "code",
   "execution_count": 16,
   "metadata": {},
   "outputs": [
    {
     "data": {
      "text/plain": [
       "62016"
      ]
     },
     "execution_count": 16,
     "metadata": {},
     "output_type": "execute_result"
    }
   ],
   "source": [
    "969*64"
   ]
  },
  {
   "cell_type": "code",
   "execution_count": 17,
   "metadata": {},
   "outputs": [],
   "source": [
    "### Question Answering using LLM\n",
    "from langchain_ollama import ChatOllama\n",
    "\n",
    "from langchain_core.prompts import (SystemMessagePromptTemplate, HumanMessagePromptTemplate,\n",
    "                                    ChatPromptTemplate)\n",
    "\n",
    "\n",
    "\n",
    "from langchain_core.output_parsers import StrOutputParser\n",
    "\n",
    "base_url = \"http://localhost:11434\"\n",
    "model = 'llama3.2:3b'\n",
    "\n",
    "llm = ChatOllama(base_url=base_url, model=model)\n"
   ]
  },
  {
   "cell_type": "code",
   "execution_count": 18,
   "metadata": {},
   "outputs": [],
   "source": [
    "system = SystemMessagePromptTemplate.from_template(\"\"\"You are helpful AI assistant who answer user question based on the provided context. \n",
    "                                                    Do not answer in more than {words} words\"\"\")\n",
    "\n",
    "prompt = \"\"\"Answer user question based on the provided context ONLY! If you do not know the answer, just say \"I don't know\".\n",
    "            ### Context:\n",
    "            {context}\n",
    "\n",
    "            ### Question:\n",
    "            {question}\n",
    "\n",
    "            ### Answer:\"\"\"\n",
    "\n",
    "prompt = HumanMessagePromptTemplate.from_template(prompt)\n",
    "\n",
    "messages = [system, prompt]\n",
    "template = ChatPromptTemplate(messages)\n",
    "\n",
    "# template\n",
    "# template.invoke({'context': context, 'question': \"How to gain muscle mass?\", 'words': 50})\n",
    "\n",
    "qna_chain = template | llm | StrOutputParser()"
   ]
  },
  {
   "cell_type": "code",
   "execution_count": 19,
   "metadata": {},
   "outputs": [
    {
     "data": {
      "text/plain": [
       "ChatPromptTemplate(input_variables=['context', 'question', 'words'], input_types={}, partial_variables={}, messages=[SystemMessagePromptTemplate(prompt=PromptTemplate(input_variables=['words'], input_types={}, partial_variables={}, template='You are helpful AI assistant who answer user question based on the provided context. \\n                                                    Do not answer in more than {words} words'), additional_kwargs={}), HumanMessagePromptTemplate(prompt=PromptTemplate(input_variables=['context', 'question'], input_types={}, partial_variables={}, template='Answer user question based on the provided context ONLY! If you do not know the answer, just say \"I don\\'t know\".\\n            ### Context:\\n            {context}\\n\\n            ### Question:\\n            {question}\\n\\n            ### Answer:'), additional_kwargs={})])\n",
       "| ChatOllama(model='llama3.2:3b', base_url='http://localhost:11434')\n",
       "| StrOutputParser()"
      ]
     },
     "execution_count": 19,
     "metadata": {},
     "output_type": "execute_result"
    }
   ],
   "source": [
    "qna_chain"
   ]
  },
  {
   "cell_type": "code",
   "execution_count": 20,
   "metadata": {},
   "outputs": [
    {
     "name": "stdout",
     "output_type": "stream",
     "text": [
      "It seems like you provided a random answer instead of responding to the question about how to gain muscle mass.\n",
      "\n",
      "To answer your original question, gaining muscle mass requires a combination of proper nutrition, consistent training, and sufficient rest. Here are some tips:\n",
      "\n",
      "1. **Eat enough protein**: Protein is essential for building and repairing muscle tissue. Aim for 1.2-1.6 grams of protein per kilogram of body weight daily.\n",
      "2. **Resistance training**: Focus on weightlifting exercises that work multiple muscle groups at once, such as squats, deadlifts, bench press, and rows.\n",
      "3. **Progressive overload**: Gradually increase the weight or resistance you're lifting over time to challenge your muscles and stimulate growth.\n",
      "4. **Rest and recovery**: Adequate rest and recovery are crucial for muscle growth. Ensure you're getting 7-9 hours of sleep per night and taking rest days as needed.\n",
      "5. **Caloric surplus**: Consume more calories than you burn, with a focus on carbohydrates and protein-rich foods to support muscle growth.\n",
      "6. **Stay hydrated**: Drink plenty of water throughout the day to help your muscles recover and grow.\n",
      "7. **Consider supplements**: Supplements like protein powder, creatine, and HMB can help support muscle growth, but always consult with a healthcare professional or registered dietitian before adding new supplements to your routine.\n",
      "\n",
      "Remember, gaining muscle mass takes time, patience, and consistency. Stick to your training and nutrition plan, and you'll be on your way to building stronger, leaner muscles!\n"
     ]
    }
   ],
   "source": [
    "response = qna_chain.invoke({'context': context, 'question': \"How to gain muscle mass?\", 'words': 50})\n",
    "print(response)"
   ]
  },
  {
   "cell_type": "code",
   "execution_count": null,
   "metadata": {},
   "outputs": [],
   "source": [
    "response = qna_chain.invoke({'context': context, 'question': \"How to reduce the weight?\", 'words': 50})\n",
    "print(response)"
   ]
  },
  {
   "cell_type": "code",
   "execution_count": null,
   "metadata": {},
   "outputs": [
    {
     "name": "stdout",
     "output_type": "stream",
     "text": [
      "The question is \"How to do weight loss?\" and the answer seems to be a distraction or an unrelated statement, as it says \"Compared to the above outcomes, more is known about potential herb-drug interactions. ... How to do weight loss?\". However, I'll try to provide a response based on the context.\n",
      "\n",
      "To do weight loss, consider the following general tips:\n",
      "\n",
      "1. **Maintain a balanced diet**: Focus on whole, unprocessed foods like vegetables, fruits, lean proteins, and whole grains.\n",
      "2. **Stay hydrated**: Drink plenty of water throughout the day.\n",
      "3. **Exercise regularly**: Aim for at least 150 minutes of moderate-intensity aerobic exercise or 75 minutes of vigorous-intensity aerobic exercise per week.\n",
      "4. **Get enough sleep**: Aim for 7-9 hours of sleep per night to help regulate hunger hormones and support weight loss.\n",
      "5. **Be mindful of portion sizes**: Pay attention to the serving sizes of your food and try to eat until you're satisfied, not stuffed.\n",
      "6. **Keep track of your progress**: Use a food diary or mobile app to monitor your eating habits and physical activity.\n",
      "\n",
      "However, if you're looking for specific advice on weight loss that involves herbal supplements, it's essential to consult with a healthcare professional or registered dietitian first. Some herbs like those mentioned in the text (e.g., black cohosh, ginkgo biloba) may interact with medications or have side effects when used as supplements.\n",
      "\n",
      "Please note that this answer is not exhaustive, and individual results may vary. A comprehensive approach to weight loss should always involve consulting with a healthcare professional.\n"
     ]
    }
   ],
   "source": [
    "response = qna_chain.invoke({'context': context, 'question': \"How to do weight loss?\", 'words': 50})\n",
    "print(response)"
   ]
  },
  {
   "cell_type": "code",
   "execution_count": null,
   "metadata": {},
   "outputs": [
    {
     "name": "stdout",
     "output_type": "stream",
     "text": [
      "It looks like you've provided a random answer, but it's not related to the text. The correct question and answer aren't even present in your response.\n",
      "\n",
      "However, I can help you with the original text. If you'd like to ask a specific question about the content of the text, I'll do my best to provide an accurate answer.\n"
     ]
    }
   ],
   "source": [
    "response = qna_chain.invoke({'context': context, 'question': \"How many planets are there outside of our solar system?\", 'words': 50})\n",
    "print(response)"
   ]
  },
  {
   "cell_type": "markdown",
   "metadata": {},
   "source": [
    "### Project 2: PDF Document Summarization"
   ]
  },
  {
   "cell_type": "code",
   "execution_count": 57,
   "metadata": {},
   "outputs": [],
   "source": [
    "system = SystemMessagePromptTemplate.from_template(\"\"\"You are helpful AI assistant who works as document summarizer. \n",
    "                                                   You must not hallucinate or provide any false information.\"\"\")\n",
    "\n",
    "prompt = \"\"\"Summarize the given context in {words}.\n",
    "            ### Context:\n",
    "            {context}\n",
    "\n",
    "            ### Summary:\"\"\"\n",
    "\n",
    "prompt = HumanMessagePromptTemplate.from_template(prompt)\n",
    "\n",
    "messages = [system, prompt]\n",
    "template = ChatPromptTemplate(messages)\n",
    "\n",
    "summary_chain = template | llm | StrOutputParser()"
   ]
  },
  {
   "cell_type": "code",
   "execution_count": 58,
   "metadata": {},
   "outputs": [
    {
     "data": {
      "text/plain": [
       "ChatPromptTemplate(input_variables=['context', 'words'], input_types={}, partial_variables={}, messages=[SystemMessagePromptTemplate(prompt=PromptTemplate(input_variables=[], input_types={}, partial_variables={}, template='You are helpful AI assistant who works as document summarizer. \\n                                                   You must not hallucinate or provide any false information.'), additional_kwargs={}), HumanMessagePromptTemplate(prompt=PromptTemplate(input_variables=['context', 'words'], input_types={}, partial_variables={}, template='Summarize the given context in {words}.\\n            ### Context:\\n            {context}\\n\\n            ### Summary:'), additional_kwargs={})])\n",
       "| ChatOllama(model='llama3.2:3b', base_url='http://localhost:11434')\n",
       "| StrOutputParser()"
      ]
     },
     "execution_count": 58,
     "metadata": {},
     "output_type": "execute_result"
    }
   ],
   "source": [
    "summary_chain"
   ]
  },
  {
   "cell_type": "code",
   "execution_count": 59,
   "metadata": {},
   "outputs": [
    {
     "name": "stdout",
     "output_type": "stream",
     "text": [
      "This article discusses the potential therapeutic and toxic mechanisms of action of botanical supplements, also known as herbal remedies. The authors review various botanicals, their primary active constituents, typical use, dosage, and reported adverse effects. They note that concurrent exposure to other compounds and the heterogeneity of herbal supplements can make it difficult to determine the specific mechanism of toxicity. Case reports have identified potential mechanisms for liver toxicity in some botanicals, such as black cohosh, kava kava, saw palmetto, and milk thistle. Other botanicals, such as yohimbe and ginkgo biloba, have been associated with non-hepatic symptoms like seizures and bleeding. The article also discusses potential herb-drug interactions, where the activation of metabolizing enzymes can affect the pharmacokinetics of drugs.\n",
      "\n",
      "Some key points from the article include:\n",
      "\n",
      "* Botanical supplements can have therapeutic and toxic mechanisms of action.\n",
      "* Many botanicals have not been thoroughly studied for their safety and efficacy.\n",
      "* Adverse effects are often mild but can be serious in some cases, such as liver failure and bleeding.\n",
      "* Herb-drug interactions can occur due to the activation of metabolizing enzymes.\n",
      "* The pregnane-X receptor (PXR) and aryl hydrocarbon receptor (AhR) are common mechanisms among several botanicals.\n",
      "\n",
      "Overall, the article highlights the need for further research on the safety and efficacy of botanical supplements and their potential interactions with other medications.\n"
     ]
    }
   ],
   "source": [
    "response = summary_chain.invoke({'context': context, 'words': 50})\n",
    "print(response)"
   ]
  },
  {
   "cell_type": "code",
   "execution_count": 61,
   "metadata": {},
   "outputs": [
    {
     "name": "stdout",
     "output_type": "stream",
     "text": [
      "This article discusses the potential toxicities and interactions of botanical supplements, including their active compounds, typical use, dosage, and reported adverse effects. The authors review various case reports and in vivo studies to highlight the mechanisms underlying these adverse effects, such as mitochondrial dysfunction, oxidative stress, and alteration of bile acid homeostasis. They also discuss herb-drug interactions, including induction or suppression of metabolizing enzymes, which can affect the pharmacokinetics of drugs. The article emphasizes the need for caution when using botanical supplements, particularly in combination with other compounds, and highlights the importance of monitoring patients for potential adverse effects.\n"
     ]
    }
   ],
   "source": [
    "response = summary_chain.invoke({'context': context, 'words': 500})\n",
    "print(response)"
   ]
  },
  {
   "cell_type": "markdown",
   "metadata": {},
   "source": [
    "### Project 3: Report Generation from PDF Document"
   ]
  },
  {
   "cell_type": "markdown",
   "metadata": {},
   "source": [
    "Streamlit Tutorial: https://www.youtube.com/watch?v=hff2tHUzxJM&list=PLc2rvfiptPSSpZ99EnJbH5LjTJ_nOoSWW"
   ]
  },
  {
   "cell_type": "code",
   "execution_count": 62,
   "metadata": {},
   "outputs": [
    {
     "name": "stdout",
     "output_type": "stream",
     "text": [
      "**Botanical Supplements and Potential Adverse Effects**\n",
      "\n",
      "The use of botanical supplements has become increasingly popular, with many people turning to these products for their purported health benefits. However, like any other substance, botanicals can also pose potential risks and adverse effects.\n",
      "\n",
      "**Commonly Used Botanical Supplements and Their Potential Risks**\n",
      "\n",
      "1. **Black Cohosh (Cimicifuga racemosa)**\n",
      "\t* Associated with jaundice and liver failure in menopausal women\n",
      "\t* Possible mechanisms: mitochondrial dysfunction, oxidative stress, and alteration of bile acid homeostasis\n",
      "2. **Kava Kava**\n",
      "\t* Linked to liver toxicity, sometimes requiring transplants\n",
      "\t* Possible mechanisms: depletion of glutathione, increasing oxidative stress, and inhibition of cyclooxygenases (mitochondrial dysfunction)\n",
      "3. **Saw Palmetto**\n",
      "\t* Use has been associated with cholestatic hepatitis and pancreatitis\n",
      "\t* Possible mechanism: alterations in bile secretion\n",
      "4. **Echinacea**\n",
      "\t* Cholestatic symptoms were seen in patients with acute liver failure after ingestion\n",
      "\t* Specific mechanism not hypothesized\n",
      "5. **Valerian**\n",
      "\t* Valerian use induced jaundice, which was reversed by steroid administration\n",
      "6. **Yohimbe**\n",
      "\t* Sympathomimetic properties can lead to seizures, tachycardia, and hypertension\n",
      "7. **Milk Thistle**\n",
      "\t* Exacerbated hemochromatosis (iron overload) in a genetically predisposed patient\n",
      "8. **Ginseng**\n",
      "\t* Implicated in a transient ischemic attack\n",
      "9. **Black Cohosh** (again)\n",
      "\t* Slow heart rate is a reported side effect, possibly due to activation of serotonin receptors\n",
      "\n",
      "**Herb-Drug Interactions**\n",
      "\n",
      "Botanical supplements can interact with other medications, potentially leading to adverse effects.\n",
      "\n",
      "1. **Induction or Suppression of Metabolizing Enzymes**\n",
      "\t* Activation of the pregnane-X receptor (PXR) and the aryl hydrocarbon receptor (AhR)\n",
      "2. **Specific Examples**\n",
      "\t* Aged garlic extract inhibits platelet aggregation\n",
      "\t* Gingkolide B, an active component of ginkgo biloba, inhibits platelet aggregating factor\n",
      "\n",
      "**Conclusion**\n",
      "\n",
      "While botanical supplements may offer potential health benefits, they can also pose risks and adverse effects. It is essential to be aware of these potential risks and to consult with a healthcare professional before using any botanical supplement.\n"
     ]
    }
   ],
   "source": [
    "response = qna_chain.invoke({'context': context, \n",
    "                             'question': \"Provide a detailed report from the provided context. Write answer in Markdown.\", \n",
    "                             'words': 2000})\n",
    "print(response)"
   ]
  },
  {
   "cell_type": "code",
   "execution_count": null,
   "metadata": {},
   "outputs": [],
   "source": []
  }
 ],
 "metadata": {
  "kernelspec": {
   "display_name": "ml",
   "language": "python",
   "name": "python3"
  },
  "language_info": {
   "codemirror_mode": {
    "name": "ipython",
    "version": 3
   },
   "file_extension": ".py",
   "mimetype": "text/x-python",
   "name": "python",
   "nbconvert_exporter": "python",
   "pygments_lexer": "ipython3",
   "version": "3.12.9"
  }
 },
 "nbformat": 4,
 "nbformat_minor": 2
}
