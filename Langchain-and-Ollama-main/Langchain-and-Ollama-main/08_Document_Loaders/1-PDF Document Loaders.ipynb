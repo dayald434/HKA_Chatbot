{
 "cells": [
  {
   "cell_type": "markdown",
   "metadata": {},
   "source": [
    "## PDF Document Loaders\n",
    "- Load various kind of documents from the web and local files.\n",
    "- Apply LLM to the documents for summarization and question answering."
   ]
  },
  {
   "cell_type": "markdown",
   "metadata": {},
   "source": [
    "### Project 1: Question Answering from PDF Document\n",
    "- We will load the document from the local file and apply LLM to answer the questions.\n",
    "- Lets use research paper published on the missuse of the health supplements for workout. "
   ]
  },
  {
   "cell_type": "code",
   "execution_count": null,
   "metadata": {},
   "outputs": [],
   "source": [
    "\n",
    "# !pip install pymupdf tiktoken\n"
   ]
  },
  {
   "cell_type": "code",
   "execution_count": 29,
   "metadata": {},
   "outputs": [
    {
     "data": {
      "text/plain": [
       "True"
      ]
     },
     "execution_count": 29,
     "metadata": {},
     "output_type": "execute_result"
    }
   ],
   "source": [
    "from dotenv import load_dotenv\n",
    "\n",
    "load_dotenv('./../.env')"
   ]
  },
  {
   "cell_type": "code",
   "execution_count": 35,
   "metadata": {},
   "outputs": [],
   "source": [
    "from langchain_community.document_loaders import PyMuPDFLoader\n",
    "\n",
    "loader = PyMuPDFLoader(\"D:/ML/HKA_Chatbot/Langchain-and-Ollama-main/Langchain-and-Ollama-main/08_Document_Loaders/Metasurface/s41467-020-15972-9.pdf\")\n",
    "\n",
    "docs = loader.load()"
   ]
  },
  {
   "cell_type": "code",
   "execution_count": 36,
   "metadata": {},
   "outputs": [
    {
     "data": {
      "text/plain": [
       "4"
      ]
     },
     "execution_count": 36,
     "metadata": {},
     "output_type": "execute_result"
    }
   ],
   "source": [
    "len(docs)"
   ]
  },
  {
   "cell_type": "code",
   "execution_count": 37,
   "metadata": {},
   "outputs": [],
   "source": [
    "# docs[0].metadata\n",
    "# print(docs[0].page_content)"
   ]
  },
  {
   "cell_type": "code",
   "execution_count": 38,
   "metadata": {},
   "outputs": [],
   "source": [
    "### Read the list of PDFs in the dir\n",
    "import os\n",
    "\n",
    "pdfs = []\n",
    "for root, dirs, files in os.walk(\"rag-dataset\"):\n",
    "    # print(root, dirs, files)\n",
    "    for file in files:\n",
    "        if file.endswith(\".pdf\"):\n",
    "            pdfs.append(os.path.join(root, file))"
   ]
  },
  {
   "cell_type": "code",
   "execution_count": 39,
   "metadata": {},
   "outputs": [],
   "source": [
    "docs = []\n",
    "for pdf in pdfs:\n",
    "    loader = PyMuPDFLoader(pdf)\n",
    "    temp = loader.load()\n",
    "    docs.extend(temp)\n",
    "\n",
    "    # print(temp)\n",
    "    # break"
   ]
  },
  {
   "cell_type": "code",
   "execution_count": 40,
   "metadata": {},
   "outputs": [
    {
     "data": {
      "text/plain": [
       "64"
      ]
     },
     "execution_count": 40,
     "metadata": {},
     "output_type": "execute_result"
    }
   ],
   "source": [
    "len(docs)"
   ]
  },
  {
   "cell_type": "code",
   "execution_count": 41,
   "metadata": {},
   "outputs": [],
   "source": [
    "def format_docs(docs):\n",
    "    return \"\\n\\n\".join([x.page_content for x in docs])\n",
    "\n",
    "\n",
    "context = format_docs(docs)"
   ]
  },
  {
   "cell_type": "code",
   "execution_count": 42,
   "metadata": {},
   "outputs": [
    {
     "data": {
      "text/plain": [
       "Document(metadata={'producer': 'iLovePDF', 'creator': '', 'creationdate': '', 'source': 'rag-dataset\\\\gym supplements\\\\1. Analysis of Actual Fitness Supplement.pdf', 'file_path': 'rag-dataset\\\\gym supplements\\\\1. Analysis of Actual Fitness Supplement.pdf', 'total_pages': 15, 'format': 'PDF 1.7', 'title': '', 'author': '', 'subject': '', 'keywords': '', 'moddate': '2024-10-21T11:38:50+00:00', 'trapped': '', 'modDate': 'D:20241021113850Z', 'creationDate': '', 'page': 0}, page_content='Citation: Espeño, P.R.; Ong, A.K.S.;\\nGerman, J.D.; Gumasing, M.J.J.; Casas,\\nE.S. Analysis of Actual Fitness\\nSupplement Consumption among\\nHealth and Fitness Enthusiasts. Foods\\n2024, 13, 1424. https://doi.org/\\n10.3390/foods13091424\\nAcademic Editors: Ilija Djekic\\nand Nada Smigic\\nReceived: 30 March 2024\\nRevised: 15 April 2024\\nAccepted: 18 April 2024\\nPublished: 6 May 2024\\nCopyright: © 2024 by the authors.\\nLicensee MDPI, Basel, Switzerland.\\nThis article is an open access article\\ndistributed\\nunder\\nthe\\nterms\\nand\\nconditions of the Creative Commons\\nAttribution (CC BY) license (https://\\ncreativecommons.org/licenses/by/\\n4.0/).\\nfoods\\nArticle\\nAnalysis of Actual Fitness Supplement Consumption among\\nHealth and Fitness Enthusiasts\\nPaolo Renzo Espeño 1, Ardvin Kester S. Ong 1,2,*\\n, Josephine D. German 1\\n, Ma. Janice J. Gumasing 3\\nand Ethan S. Casas 1\\n1\\nSchool of Industrial Engineering and Engineering Management, Mapúa University, 658 Muralla St.,\\nIntramuros, Manila 1002, Philippines\\n2\\nE.T. Yuchengo School of Business, Mapúa University, 1191 Pablo Ocampo Sr. Ext., Makati 1204, Philippines\\n3\\nDepartment of Industrial and Systems Engineering, Gokongwei College of Engineering,\\nDe La Salle University, 2401 Taft Ave., Manila 1007, Philippines\\n*\\nCorrespondence: aksong@mapua.edu.ph; Tel.: +63-(2)8247-5000 (ext. 6202)\\nAbstract: With the rising popularity of fitness supplements, understanding the factors driving their\\nconsumption behaviors is crucial. This study investigated the actual consumption of fitness supple-\\nments utilizing the Theory of Planned Behavior (TPB), Health Belief Model (HBM), and the Theory\\nof Effort Minimization in Physical Activity (TEMPA) frameworks. The TPB provided insights into\\nhow attitudes, subjective norms, and perceived behavioral control influence individuals’ intentions\\nto consume fitness supplements. Additionally, the HBM sheds light on perceived effectiveness,\\nbenefits, barriers, and health motivation related to supplement consumption. Integrating the TEMPA\\nframework further investigated the role of effort minimization in physical activity contexts. Through\\nan online questionnaire, data were collected from a sample of 250 fitness supplement-consuming\\nrespondents. SEM analysis revealed significant associations between behavioral intentions and\\nattitudes, perceived behavioral control, health motivation, and controlled precursors. However, it\\nwas seen that subjective norms, perceived effectiveness, perceived benefits, and automatic precursors\\nwere deemed insignificant. The findings contribute to a comprehensive understanding of the factors\\nshaping actual consumption behaviors, offering valuable implications for marketers, health profes-\\nsionals, and policymakers seeking to promote informed and responsible supplement use among\\nhealth and fitness enthusiasts.\\nKeywords: fitness supplements; health belief model; theory of effort of minimization; theory of\\nplanned behavior; structural equation modelling\\n1. Introduction\\nSupplementary drinks or fitness supplements are commonly used to enhance an\\nindividual’s performance in various sports and health settings, catering to both competitive\\nand non-competitive athletes [1]. One widely known supplement for athletes and fitness\\nenthusiasts is protein supplements like protein shakes. Others may be whey protein,\\ncaffeine, and creatine, to name a few. These supplements play a crucial role in helping\\nindividuals increase muscle mass, recover faster, and enhance their overall performance [2].\\nWhey protein stands out as a top-quality protein source, containing more essential amino\\nacids than traditional protein sources. Its numerous benefits have made it a popular choice\\nfor snacks and drinks among consumers [3]. Another widely embraced supplement is\\ncaffeine, which is found in many sports and food supplements. Caffeine reduces perceived\\neffort, minimizes fatigue and pain, and proves to be effective for endurance and high-\\nintensity activities, which is the choice of consumers [4].\\nCreatine monohydrate is another well-known supplement used to gain muscle mass\\nand support performance and recovery. It is known not to increase fat mass and remains\\neffective even when taken in recommended doses [5]. Despite its popularity in the fitness\\nFoods 2024, 13, 1424. https://doi.org/10.3390/foods13091424\\nhttps://www.mdpi.com/journal/foods')"
      ]
     },
     "execution_count": 42,
     "metadata": {},
     "output_type": "execute_result"
    }
   ],
   "source": [
    "docs[0]"
   ]
  },
  {
   "cell_type": "code",
   "execution_count": 43,
   "metadata": {},
   "outputs": [],
   "source": [
    "# print(context)"
   ]
  },
  {
   "cell_type": "code",
   "execution_count": 44,
   "metadata": {},
   "outputs": [],
   "source": [
    "import tiktoken\n",
    "\n",
    "encoding = tiktoken.encoding_for_model(\"gpt-4o-mini\")\n"
   ]
  },
  {
   "cell_type": "code",
   "execution_count": 45,
   "metadata": {},
   "outputs": [
    {
     "data": {
      "text/plain": [
       "([542, 111291, 14571], [81, 31847, 80, 5276])"
      ]
     },
     "execution_count": 45,
     "metadata": {},
     "output_type": "execute_result"
    }
   ],
   "source": [
    "encoding.encode(\"congratulations\"), encoding.encode(\"rqsqeft\")"
   ]
  },
  {
   "cell_type": "code",
   "execution_count": 46,
   "metadata": {},
   "outputs": [
    {
     "data": {
      "text/plain": [
       "968"
      ]
     },
     "execution_count": 46,
     "metadata": {},
     "output_type": "execute_result"
    }
   ],
   "source": [
    "len(encoding.encode(docs[0].page_content))"
   ]
  },
  {
   "cell_type": "code",
   "execution_count": 47,
   "metadata": {},
   "outputs": [
    {
     "data": {
      "text/plain": [
       "60268"
      ]
     },
     "execution_count": 47,
     "metadata": {},
     "output_type": "execute_result"
    }
   ],
   "source": [
    "len(encoding.encode(context))"
   ]
  },
  {
   "cell_type": "code",
   "execution_count": 48,
   "metadata": {},
   "outputs": [
    {
     "data": {
      "text/plain": [
       "62016"
      ]
     },
     "execution_count": 48,
     "metadata": {},
     "output_type": "execute_result"
    }
   ],
   "source": [
    "969*64"
   ]
  },
  {
   "cell_type": "code",
   "execution_count": 49,
   "metadata": {},
   "outputs": [],
   "source": [
    "### Question Answering using LLM\n",
    "from langchain_ollama import ChatOllama\n",
    "\n",
    "from langchain_core.prompts import (SystemMessagePromptTemplate, HumanMessagePromptTemplate,\n",
    "                                    ChatPromptTemplate)\n",
    "\n",
    "\n",
    "\n",
    "from langchain_core.output_parsers import StrOutputParser\n",
    "\n",
    "base_url = \"http://localhost:11434\"\n",
    "model = 'llama3.2:3b'\n",
    "\n",
    "llm = ChatOllama(base_url=base_url, model=model)\n"
   ]
  },
  {
   "cell_type": "code",
   "execution_count": 51,
   "metadata": {},
   "outputs": [],
   "source": [
    "system = SystemMessagePromptTemplate.from_template(\"\"\"You are helpful AI assistant who answer user question based on the provided context. \n",
    "                                                    Do not answer in more than {words} words\"\"\")\n",
    "\n",
    "prompt = \"\"\"Answer user question based on the provided context ONLY! If you do not know the answer, just say \"I don't know\".\n",
    "            ### Context:\n",
    "            {context}\n",
    "\n",
    "            ### Question:\n",
    "            {question}\n",
    "\n",
    "            ### Answer:\"\"\"\n",
    "\n",
    "prompt = HumanMessagePromptTemplate.from_template(prompt)\n",
    "\n",
    "messages = [system, prompt]\n",
    "template = ChatPromptTemplate(messages)\n",
    "\n",
    "# template\n",
    "# template.invoke({'context': context, 'question': \"How to gain muscle mass?\", 'words': 50})\n",
    "\n",
    "qna_chain = template | llm | StrOutputParser()"
   ]
  },
  {
   "cell_type": "code",
   "execution_count": 52,
   "metadata": {},
   "outputs": [
    {
     "data": {
      "text/plain": [
       "ChatPromptTemplate(input_variables=['context', 'question', 'words'], input_types={}, partial_variables={}, messages=[SystemMessagePromptTemplate(prompt=PromptTemplate(input_variables=['words'], input_types={}, partial_variables={}, template='You are helpful AI assistant who answer user question based on the provided context. \\n                                                    Do not answer in more than {words} words'), additional_kwargs={}), HumanMessagePromptTemplate(prompt=PromptTemplate(input_variables=['context', 'question'], input_types={}, partial_variables={}, template='Answer user question based on the provided context ONLY! If you do not know the answer, just say \"I don\\'t know\".\\n            ### Context:\\n            {context}\\n\\n            ### Question:\\n            {question}\\n\\n            ### Answer:'), additional_kwargs={})])\n",
       "| ChatOllama(model='llama3.2:3b', base_url='http://localhost:11434')\n",
       "| StrOutputParser()"
      ]
     },
     "execution_count": 52,
     "metadata": {},
     "output_type": "execute_result"
    }
   ],
   "source": [
    "qna_chain"
   ]
  },
  {
   "cell_type": "code",
   "execution_count": null,
   "metadata": {},
   "outputs": [
    {
     "name": "stdout",
     "output_type": "stream",
     "text": [
      "The text doesn't provide an answer to the question \"How to gain muscle mass?\" It appears to be a passage from a scientific article discussing the potential health risks associated with the use of botanical supplements, such as black cohosh, kava kava, saw palmetto, and others. The passage mentions various adverse effects and potential interactions that have been reported in case studies and clinical cases.\n",
      "\n",
      "If you're looking for information on how to gain muscle mass, I'd be happy to try and help with that! However, please note that the text doesn't provide any relevant information on this topic. If you'd like, I can suggest some general tips or resources on building muscle mass.\n"
     ]
    }
   ],
   "source": [
    "response = qna_chain.invoke({'context': context, 'question': \"How do you choose material for metaatoms?\", 'words': 50})\n",
    "print(response)"
   ]
  },
  {
   "cell_type": "code",
   "execution_count": 21,
   "metadata": {},
   "outputs": [
    {
     "name": "stdout",
     "output_type": "stream",
     "text": [
      "The text does not provide a direct answer to how to reduce weight, but rather discusses the potential toxicities and interactions of botanical supplements. However, based on the information provided, some general advice can be inferred:\n",
      "\n",
      "1. Be cautious when using herbal supplements, as they can cause adverse effects such as liver damage or interact with other medications.\n",
      "2. Consult a healthcare professional before taking any new supplement, especially if you have underlying health conditions or are taking prescription medications.\n",
      "3. Choose reputable sources for herbal supplements and follow the recommended dosages.\n",
      "4. Monitor your body's response to any new supplement and discontinue use if adverse effects occur.\n",
      "\n",
      "It is not mentioned in the text how to reduce weight, but rather it can be inferred that a healthy lifestyle, including a balanced diet and regular exercise, is the most effective way to achieve weight loss.\n",
      "\n",
      "Some of the specific botanical supplements discussed in the text may have potential benefits for weight management, such as:\n",
      "\n",
      "1. Black cohosh: May help regulate blood sugar levels and improve insulin sensitivity.\n",
      "2. Ginseng: May help improve metabolic function and reduce inflammation.\n",
      "3. Saw palmetto: May help block the conversion of testosterone to dihydrotestosterone (DHT), a hormone that can contribute to weight gain.\n",
      "\n",
      "However, more research is needed to confirm these potential benefits and to ensure safe and effective use.\n"
     ]
    }
   ],
   "source": [
    "response = qna_chain.invoke({'context': context, 'question': \"How to reduce the weight?\", 'words': 50})\n",
    "print(response)"
   ]
  },
  {
   "cell_type": "code",
   "execution_count": 22,
   "metadata": {},
   "outputs": [
    {
     "name": "stdout",
     "output_type": "stream",
     "text": [
      "The text does not provide a direct answer to the question \"How to do weight loss?\" but instead discusses various topics related to pharmacology and toxicology, including:\n",
      "\n",
      "1. The risks of unregulated dietary supplements.\n",
      "2. The mechanisms of drug-induced liver injury (DILI) and its associated effects on mitochondrial function, oxidative stress, and bile acid homeostasis.\n",
      "3. Case reports of adverse reactions to botanicals, such as black cohosh, kava kava, saw palmetto, Echinacea, valerian, yohimbe, milk thistle, ginseng, garlic, and ginkgo biloba.\n",
      "4. Potential herb-drug interactions, including the activation of metabolic enzymes like PXR and AhR.\n",
      "\n",
      "The text does mention weight loss as a potential application for certain botanicals, such as black cohosh, but it does not provide information on how to achieve weight loss or recommend any specific weight loss methods.\n",
      "\n",
      "If you are looking for advice on weight loss, I would be happy to try and assist you with some general tips and recommendations. However, please note that I am not a healthcare professional and my responses should not be considered as medical advice.\n"
     ]
    }
   ],
   "source": [
    "response = qna_chain.invoke({'context': context, 'question': \"How to do weight loss?\", 'words': 50})\n",
    "print(response)"
   ]
  },
  {
   "cell_type": "code",
   "execution_count": 23,
   "metadata": {},
   "outputs": [
    {
     "name": "stdout",
     "output_type": "stream",
     "text": [
      "It seems you've provided a random question and answer, but not related to the text. The text is discussing the risks and adverse effects of botanicals (plant-based supplements), while the question about the number of planets outside of our solar system appears unrelated.\n",
      "\n",
      "If you'd like to ask a specific question or seek clarification on something from the text, I'll do my best to help!\n"
     ]
    }
   ],
   "source": [
    "response = qna_chain.invoke({'context': context, 'question': \"How many planets are there outside of our solar system?\", 'words': 50})\n",
    "print(response)"
   ]
  },
  {
   "cell_type": "markdown",
   "metadata": {},
   "source": [
    "### Project 2: PDF Document Summarization"
   ]
  },
  {
   "cell_type": "code",
   "execution_count": 24,
   "metadata": {},
   "outputs": [],
   "source": [
    "system = SystemMessagePromptTemplate.from_template(\"\"\"You are helpful AI assistant who works as document summarizer. \n",
    "                                                   You must not hallucinate or provide any false information.\"\"\")\n",
    "\n",
    "prompt = \"\"\"Summarize the given context in {words}.\n",
    "            ### Context:\n",
    "            {context}\n",
    "\n",
    "            ### Summary:\"\"\"\n",
    "\n",
    "prompt = HumanMessagePromptTemplate.from_template(prompt)\n",
    "\n",
    "messages = [system, prompt]\n",
    "template = ChatPromptTemplate(messages)\n",
    "\n",
    "summary_chain = template | llm | StrOutputParser()"
   ]
  },
  {
   "cell_type": "code",
   "execution_count": 25,
   "metadata": {},
   "outputs": [
    {
     "data": {
      "text/plain": [
       "ChatPromptTemplate(input_variables=['context', 'words'], input_types={}, partial_variables={}, messages=[SystemMessagePromptTemplate(prompt=PromptTemplate(input_variables=[], input_types={}, partial_variables={}, template='You are helpful AI assistant who works as document summarizer. \\n                                                   You must not hallucinate or provide any false information.'), additional_kwargs={}), HumanMessagePromptTemplate(prompt=PromptTemplate(input_variables=['context', 'words'], input_types={}, partial_variables={}, template='Summarize the given context in {words}.\\n            ### Context:\\n            {context}\\n\\n            ### Summary:'), additional_kwargs={})])\n",
       "| ChatOllama(model='llama3.2:3b', base_url='http://localhost:11434')\n",
       "| StrOutputParser()"
      ]
     },
     "execution_count": 25,
     "metadata": {},
     "output_type": "execute_result"
    }
   ],
   "source": [
    "summary_chain"
   ]
  },
  {
   "cell_type": "code",
   "execution_count": 26,
   "metadata": {},
   "outputs": [
    {
     "name": "stdout",
     "output_type": "stream",
     "text": [
      "This article discusses the potential health risks associated with the use of botanicals, which are herbal remedies derived from plants. The authors review various studies and case reports to highlight the possible toxicities and interactions of botanicals with other medications.\n",
      "\n",
      "**Key points:**\n",
      "\n",
      "1. Botanicals can cause liver damage and induce drug-metabolizing enzymes, leading to potential herb-drug interactions.\n",
      "2. Case reports have linked certain botanicals to severe health problems, such as liver failure, seizures, bleeding disorders, and cardiovascular events.\n",
      "3. The mechanisms underlying the toxic effects of botanicals are often complex and involve multiple pathways, including mitochondrial dysfunction, oxidative stress, and alteration of bile acid homeostasis.\n",
      "4. Some botanicals, such as black cohosh and ginkgo biloba, have been implicated in causing excessive bleeding due to their ability to inhibit platelet aggregation.\n",
      "5. Herb-drug interactions are a significant concern, particularly for medications that are metabolized by the same enzymes as botanicals.\n",
      "6. The authors highlight the need for further research on the safety profiles of various botanicals and the development of guidelines for their safe use.\n",
      "\n",
      "**Botanicals discussed in the article:**\n",
      "\n",
      "1. Black cohosh (Cimicifuga racemosa)\n",
      "2. Kava kava\n",
      "3. Saw palmetto\n",
      "4. Echinacea\n",
      "5. Valerian\n",
      "6. Yohimbine\n",
      "7. Ginseng\n",
      "8. Milk thistle\n",
      "9. Garlic\n",
      "10. Ginkgo biloba\n",
      "\n",
      "**Key takeaways:**\n",
      "\n",
      "1. Botanicals can pose significant health risks, particularly for individuals with pre-existing medical conditions or those taking certain medications.\n",
      "2. More research is needed to fully understand the safety profiles of various botanicals and their potential interactions with other medications.\n",
      "3. Healthcare providers should be aware of the potential risks associated with botanical use and advise patients accordingly.\n",
      "4. Patients should consult with healthcare providers before using any botanical remedy, especially if they have a history of medical conditions or are taking prescription medications.\n"
     ]
    }
   ],
   "source": [
    "response = summary_chain.invoke({'context': context, 'words': 50})\n",
    "print(response)"
   ]
  },
  {
   "cell_type": "code",
   "execution_count": 27,
   "metadata": {},
   "outputs": [
    {
     "name": "stdout",
     "output_type": "stream",
     "text": [
      "This article reviews the potential toxicities and interactions of various botanical supplements, including:\n",
      "\n",
      "1. Black cohosh (Cimicifuga racemosa): associated with jaundice and liver failure in menopausal women, possibly due to oxidative stress.\n",
      "2. Kava kava: linked to liver toxicity, potentially caused by depletion of glutathione and inhibition of cyclooxygenases.\n",
      "3. Saw palmetto: associated with cholestatic hepatitis and pancreatitis.\n",
      "4. Echinacea: may cause acute liver failure without a clear mechanism.\n",
      "5. Valerian: can induce jaundice that reverses with steroid administration.\n",
      "6. Yohimbine: can cause seizures, tachycardia, and hypertension due to its sympathomimetic properties.\n",
      "7. Milk thistle: may exacerbate hemochromatosis in individuals predisposed to iron overload.\n",
      "8. Ginseng: implicated in a transient ischemic attack without a clear mechanism.\n",
      "9. Black cohosh: regulates heart rate via activation of serotonin receptors, possibly causing bradycardia.\n",
      "10. Garlic and ginkgo biloba: both associated with excessive bleeding due to their antiplatelet aggregating properties.\n",
      "\n",
      "The article also discusses potential herb-drug interactions, including:\n",
      "\n",
      "1. Induction or suppression of metabolizing enzymes, which can affect the pharmacokinetics of drugs and warrant contraindications.\n",
      "2. Activation of pregnane-X receptor (PXR) and aryl hydrocarbon receptor (AhR), which may be a common mechanism among several botanicals.\n",
      "\n",
      "Overall, the article highlights the potential risks and interactions associated with various botanical supplements and emphasizes the need for healthcare providers to carefully consider these factors when prescribing or recommending these products.\n"
     ]
    }
   ],
   "source": [
    "response = summary_chain.invoke({'context': context, 'words': 500})\n",
    "print(response)"
   ]
  },
  {
   "cell_type": "markdown",
   "metadata": {},
   "source": [
    "### Project 3: Report Generation from PDF Document"
   ]
  },
  {
   "cell_type": "markdown",
   "metadata": {},
   "source": [
    "Streamlit Tutorial: https://www.youtube.com/watch?v=hff2tHUzxJM&list=PLc2rvfiptPSSpZ99EnJbH5LjTJ_nOoSWW"
   ]
  },
  {
   "cell_type": "code",
   "execution_count": 28,
   "metadata": {},
   "outputs": [
    {
     "name": "stdout",
     "output_type": "stream",
     "text": [
      "**Detailed Report on Adverse Effects of Botanical Supplements**\n",
      "\n",
      "The use of botanical supplements has been associated with various adverse effects, ranging from mild to severe. The following is a summary of reported cases and potential mechanisms:\n",
      "\n",
      "**Hepatotoxicity**\n",
      "\n",
      "*   **Black cohosh (Cimicifuga racemosa)**: Associated with jaundice and liver failure in menopausal women, with pathological oxidative stress observed.\n",
      "*   **Kava kava**: Liver toxicity, sometimes requiring transplants, attributed to depletion of glutathione and inhibition of cyclooxygenases.\n",
      "*   **Saw palmetto**: Cholestatic hepatitis, with alterations in bile secretion linked to pancreatitis.\n",
      "*   **Echinacea**: Acute liver failure, without a specific mechanism hypothesized.\n",
      "\n",
      "**Non-hepatic Symptoms**\n",
      "\n",
      "*   **Yohimbe**: Seizure with tachycardia and hypertension in a bodybuilder.\n",
      "*   **Milk thistle**: Exacerbated hemochromatosis (iron overload) in a genetically predisposed individual, which resolved upon cessation of supplement use.\n",
      "*   **Ginseng**: Transient ischemia attack in a 64-year-old man.\n",
      "\n",
      "**Cardiovascular Outcomes**\n",
      "\n",
      "*   **Black cohosh**: \"Probably responsible\" for observed bradycardia in a 59-year-old woman, potentially via activation of serotonin receptors.\n",
      "\n",
      "**Bleeding Risks**\n",
      "\n",
      "*   **Garlic**: Excessive bleeding in a 71-year-old man prior to surgery.\n",
      "*   **Ginkgo biloba**: Spontaneous bleeding in men and women, attributed to gingkolide B's inhibition of platelet aggregating factor.\n",
      "\n",
      "**Herb-Drug Interactions**\n",
      "\n",
      "Potential herb-drug interactions are more extensively understood than adverse effects. Pharmacologically active compounds in botanicals can induce or suppress metabolizing enzymes, affecting the pharmacokinetics of drugs and warranting contraindications by healthcare providers. The activation of pregnane-X receptor (PXR) and aryl hydrocarbon receptor (AhR) has been implicated as common mechanisms among several botanicals.\n",
      "\n",
      "These findings highlight the importance of careful consideration and monitoring when using botanical supplements, particularly in individuals with pre-existing medical conditions or taking medications.\n"
     ]
    }
   ],
   "source": [
    "response = qna_chain.invoke({'context': context, \n",
    "                             'question': \"Provide a detailed report from the provided context. Write answer in Markdown.\", \n",
    "                             'words': 2000})\n",
    "print(response)"
   ]
  },
  {
   "cell_type": "code",
   "execution_count": null,
   "metadata": {},
   "outputs": [],
   "source": []
  }
 ],
 "metadata": {
  "kernelspec": {
   "display_name": "ml",
   "language": "python",
   "name": "python3"
  },
  "language_info": {
   "codemirror_mode": {
    "name": "ipython",
    "version": 3
   },
   "file_extension": ".py",
   "mimetype": "text/x-python",
   "name": "python",
   "nbconvert_exporter": "python",
   "pygments_lexer": "ipython3",
   "version": "3.12.9"
  }
 },
 "nbformat": 4,
 "nbformat_minor": 2
}
